{
  "nbformat": 4,
  "nbformat_minor": 0,
  "metadata": {
    "colab": {
      "provenance": []
    },
    "kernelspec": {
      "name": "python3",
      "display_name": "Python 3"
    },
    "language_info": {
      "name": "python"
    }
  },
  "cells": [
    {
      "cell_type": "code",
      "execution_count": null,
      "metadata": {
        "id": "N2GfBtIKbilg"
      },
      "outputs": [],
      "source": [
        "# Atenção: se você quiser rodar mais de uma vez as células, esta aqui só é necessária uma vez no mesmo ambiente de execução\n",
        "!pip3 install chainlit pyngrok langchain optimum auto-gptq --extra-index-url https://huggingface.github.io/autogptq-index/whl/cu118/ -q"
      ]
    },
    {
      "cell_type": "code",
      "source": [
        "!ngrok config add-authtoken \"seu-token-aqui\""
      ],
      "metadata": {
        "id": "UVYQ8MlMd-ul"
      },
      "execution_count": null,
      "outputs": []
    },
    {
      "cell_type": "code",
      "source": [
        "from pyngrok import ngrok\n",
        "print(ngrok.connect(8000).public_url)"
      ],
      "metadata": {
        "id": "G9iG3xfZfBqj"
      },
      "execution_count": null,
      "outputs": []
    },
    {
      "cell_type": "code",
      "source": [
        "%%writefile app.py\n",
        "from transformers import AutoModelForCausalLM, AutoTokenizer, pipeline\n",
        "from langchain.llms import HuggingFacePipeline\n",
        "from langchain.prompts.prompt import PromptTemplate\n",
        "from langchain.chains import ConversationChain\n",
        "from langchain.memory import ConversationBufferWindowMemory\n",
        "import chainlit as cl\n",
        "\n",
        "model_name_or_path = \"TheBloke/zephyr-7B-beta-GPTQ\"\n",
        "tokenizer = AutoTokenizer.from_pretrained(model_name_or_path, use_fast=True)\n",
        "model = AutoModelForCausalLM.from_pretrained(model_name_or_path, device_map=\"auto\")\n",
        "\n",
        "pipe = pipeline(\n",
        "    task=\"text-generation\",\n",
        "    model=model,\n",
        "    tokenizer=tokenizer,\n",
        "    max_new_tokens=512\n",
        "    )\n",
        "\n",
        "llm=HuggingFacePipeline(pipeline=pipe)"
      ],
      "metadata": {
        "id": "Qwo1uHSafjZt"
      },
      "execution_count": null,
      "outputs": []
    }
  ]
}